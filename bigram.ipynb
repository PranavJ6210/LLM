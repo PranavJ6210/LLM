{
 "cells": [
  {
   "cell_type": "code",
   "execution_count": 2,
   "metadata": {},
   "outputs": [
    {
     "name": "stdout",
     "output_type": "stream",
     "text": [
      "cuda\n"
     ]
    }
   ],
   "source": [
    "import torch\n",
    "import torch.nn as nn\n",
    "from torch.nn import functional as F\n",
    "device = 'cuda' if torch.cuda.is_available() else 'cpu'\n",
    "print(device)"
   ]
  },
  {
   "cell_type": "markdown",
   "metadata": {},
   "source": [
    "Hyperparameter initialisation"
   ]
  },
  {
   "cell_type": "code",
   "execution_count": 23,
   "metadata": {},
   "outputs": [],
   "source": [
    "block_size = 64\n",
    "batch_size = 128 \n",
    "max_iters = 30000\n",
    "learning_rate = 3e-4\n",
    "eval_iters = 5000"
   ]
  },
  {
   "cell_type": "markdown",
   "metadata": {},
   "source": [
    "Open text document"
   ]
  },
  {
   "cell_type": "code",
   "execution_count": 4,
   "metadata": {},
   "outputs": [],
   "source": [
    "with open('wizard_of_oz.txt','r', encoding='utf-8') as f:\n",
    "    text = f.read()"
   ]
  },
  {
   "cell_type": "markdown",
   "metadata": {},
   "source": [
    "Get vocabulary"
   ]
  },
  {
   "cell_type": "code",
   "execution_count": 5,
   "metadata": {},
   "outputs": [
    {
     "name": "stdout",
     "output_type": "stream",
     "text": [
      "['\\n', ' ', '!', '\"', '&', \"'\", '(', ')', '*', ',', '-', '.', '0', '1', '2', '3', '4', '5', '6', '7', '8', '9', ':', ';', '?', 'A', 'B', 'C', 'D', 'E', 'F', 'G', 'H', 'I', 'J', 'K', 'L', 'M', 'N', 'O', 'P', 'Q', 'R', 'S', 'T', 'U', 'V', 'W', 'X', 'Y', 'Z', '[', ']', '_', 'a', 'b', 'c', 'd', 'e', 'f', 'g', 'h', 'i', 'j', 'k', 'l', 'm', 'n', 'o', 'p', 'q', 'r', 's', 't', 'u', 'v', 'w', 'x', 'y', 'z', '\\ufeff']\n",
      "81\n"
     ]
    }
   ],
   "source": [
    "chars = sorted(set(text))\n",
    "print(chars)\n",
    "vocab_size = len(chars)\n",
    "print(vocab_size)"
   ]
  },
  {
   "cell_type": "markdown",
   "metadata": {},
   "source": [
    "Initialise Encoder and Decoder"
   ]
  },
  {
   "cell_type": "code",
   "execution_count": 6,
   "metadata": {},
   "outputs": [],
   "source": [
    "string_to_int = {ch:i for i,ch in enumerate(chars)}\n",
    "int_to_string = {i:ch for i,ch in enumerate(chars)}\n",
    "\n",
    "encode = lambda s: [string_to_int[c] for c in s]\n",
    "decode = lambda l: ''.join([int_to_string[i] for i in l])"
   ]
  },
  {
   "cell_type": "markdown",
   "metadata": {},
   "source": [
    "Gather encoded data from our text document "
   ]
  },
  {
   "cell_type": "code",
   "execution_count": 7,
   "metadata": {},
   "outputs": [],
   "source": [
    "data = torch.tensor(encode(text), dtype=torch.long)"
   ]
  },
  {
   "cell_type": "markdown",
   "metadata": {},
   "source": [
    "Get train and validation splits"
   ]
  },
  {
   "cell_type": "code",
   "execution_count": 8,
   "metadata": {},
   "outputs": [],
   "source": [
    "n=int(0.8*len(data))\n",
    "train_data = data[:n]\n",
    "valid_data = data[n:]"
   ]
  },
  {
   "cell_type": "markdown",
   "metadata": {},
   "source": [
    "In the get_batch function, we are pushing the data to the GPU to be parallely processed"
   ]
  },
  {
   "cell_type": "code",
   "execution_count": 9,
   "metadata": {},
   "outputs": [
    {
     "name": "stdout",
     "output_type": "stream",
     "text": [
      "inputs\n",
      "tensor([[79,  9,  1, 37, 71, 11,  1, 26],\n",
      "        [73,  1, 33,  1, 57, 68, 67,  5],\n",
      "        [54, 67, 64,  1, 78, 68, 74,  1],\n",
      "        [58,  1, 46, 54, 65, 65, 58, 78]], device='cuda:0')\n",
      "targets\n",
      "tensor([[ 9,  1, 37, 71, 11,  1, 26, 54],\n",
      "        [ 1, 33,  1, 57, 68, 67,  5, 73],\n",
      "        [67, 64,  1, 78, 68, 74,  1, 75],\n",
      "        [ 1, 46, 54, 65, 65, 58, 78,  1]], device='cuda:0')\n"
     ]
    }
   ],
   "source": [
    "def get_batch(split):\n",
    "    data = train_data if split == 'train' else valid_data\n",
    "    ix = torch.randint(len(data) - block_size,(batch_size,))\n",
    "    #print(ix)\n",
    "    x = torch.stack([data[i:i+block_size]for i in ix])\n",
    "    y = torch.stack([data[i+1:i+block_size+1]for i in ix])\n",
    "    x,y = x.to(device), y.to(device)\n",
    "    return x,y\n",
    "\n",
    "x,y = get_batch('train')\n",
    "print('inputs')\n",
    "print(x)\n",
    "print('targets')\n",
    "print(y)"
   ]
  },
  {
   "cell_type": "code",
   "execution_count": 10,
   "metadata": {},
   "outputs": [
    {
     "name": "stdout",
     "output_type": "stream",
     "text": [
      "when input is  tensor([80])  target is  tensor(1)\n",
      "when input is  tensor([80,  1])  target is  tensor(1)\n",
      "when input is  tensor([80,  1,  1])  target is  tensor(28)\n",
      "when input is  tensor([80,  1,  1, 28])  target is  tensor(39)\n",
      "when input is  tensor([80,  1,  1, 28, 39])  target is  tensor(42)\n",
      "when input is  tensor([80,  1,  1, 28, 39, 42])  target is  tensor(39)\n",
      "when input is  tensor([80,  1,  1, 28, 39, 42, 39])  target is  tensor(44)\n",
      "when input is  tensor([80,  1,  1, 28, 39, 42, 39, 44])  target is  tensor(32)\n"
     ]
    }
   ],
   "source": [
    "x = train_data[:block_size]\n",
    "y = train_data[1:block_size + 1]\n",
    "\n",
    "for t in range(block_size):\n",
    "    context = x[:t+1]\n",
    "    target = y[t]\n",
    "    print('when input is ',context,' target is ',target)"
   ]
  },
  {
   "cell_type": "markdown",
   "metadata": {},
   "source": [
    "nn.Module inside a sub class, they will be learnable parameters. \n",
    "The weight matrix will change through gradient descent."
   ]
  },
  {
   "cell_type": "markdown",
   "metadata": {},
   "source": [
    "Now why Gradient Descent, to avoid loss in the model. \n",
    "How do we calculate loss, -log(1/80) -> This is an example case where we are finding the probability that we get a character from a 80 word vocabulary. Now the calculated loss is "
   ]
  },
  {
   "cell_type": "code",
   "execution_count": 11,
   "metadata": {},
   "outputs": [
    {
     "name": "stdout",
     "output_type": "stream",
     "text": [
      "4.382026634673881\n"
     ]
    }
   ],
   "source": [
    "import math\n",
    "print(-math.log(float(1/80)))"
   ]
  },
  {
   "cell_type": "markdown",
   "metadata": {},
   "source": [
    "This loss is huge, not even 2% chance to predict that specific character. "
   ]
  },
  {
   "cell_type": "markdown",
   "metadata": {},
   "source": [
    "We have to apply gradient descent so that in that graph of plotted wave, the prediction is adjusted along the curve of the wave to avoid this loss we acquire."
   ]
  },
  {
   "cell_type": "code",
   "execution_count": 14,
   "metadata": {},
   "outputs": [
    {
     "data": {
      "image/png": "[encoded data removed]",
      "text/plain": [
       "<Figure size 640x480 with 1 Axes>"
      ]
     },
     "metadata": {},
     "output_type": "display_data"
    }
   ],
   "source": [
    "import numpy as np\n",
    "import matplotlib.pyplot as plt\n",
    "\n",
    "# Generate values from 0 to 2π\n",
    "x = np.linspace(0, 2 * np.pi, 100)\n",
    "y = np.sin(x)\n",
    "\n",
    "# Plot the sine wave\n",
    "plt.plot(x, y, label=\"sin(x)\")\n",
    "\n",
    "# Labels and title\n",
    "plt.xlabel(\"x\")\n",
    "plt.ylabel(\"sin(x)\")\n",
    "plt.title(\"Sine Wave\")\n",
    "\n",
    "# Show legend and grid\n",
    "plt.legend()\n",
    "plt.grid()\n",
    "\n",
    "# Display the plot\n",
    "plt.show()\n"
   ]
  },
  {
   "cell_type": "markdown",
   "metadata": {},
   "source": [
    "***Gradient descent*** is an optimiser for the network. We can check torch optim for all optimisers that can be used from the torch framework."
   ]
  },
  {
   "cell_type": "markdown",
   "metadata": {},
   "source": [
    "Now this optimiser must be paired with a learning rate. As we adjust our prediction with the optimiser, we must specify how it adjusts, which is done by the learning rate. Learning rate allows us to commmand the optimiser to take the steps or jumps that it must take to follow the curve of the gradient. \n",
    "\n",
    "\n",
    "***Why learning rate?*** To avoid immediate ascending and descending. When we adjust learing rate it will allow the optimiser to know when we descend or ascend based on when we reach the local bottom (base line)  "
   ]
  },
  {
   "cell_type": "markdown",
   "metadata": {},
   "source": [
    "Its better to have **smaller learing rate** so that we dont take large steps that we drastically change the parameters we are working with."
   ]
  },
  {
   "cell_type": "markdown",
   "metadata": {},
   "source": [
    "***AdamW optimiser*** - We use this since the weight matrix in the neural network may be lucky or unlucky to achieve a high or low accuracy inconsistently. We decay the weights with the AdamW to make sure the weights are consistent in the learning process."
   ]
  },
  {
   "cell_type": "markdown",
   "metadata": {},
   "source": [
    "***Logits:***\n",
    "\n",
    "\n",
    "These are the probability distribution of what we want to predict.\n",
    "\n",
    "\n",
    "Above we are reshaping (.shape and .view) the logits are in the format PyTorch expects it to be."
   ]
  },
  {
   "cell_type": "code",
   "execution_count": 12,
   "metadata": {},
   "outputs": [],
   "source": [
    "@torch.no_grad()\n",
    "def estimate_loss():\n",
    "    out={}\n",
    "    #testing\n",
    "    model.eval() #evaluation  mode (dropout is off here)\n",
    "    for split in ['train','val']:\n",
    "        losses = torch.zeros(eval_iters)\n",
    "        for k in range(eval_iters):\n",
    "            X, Y = get_batch(split)\n",
    "            logits, loss = model(X, Y)\n",
    "            losses[k] = loss.item()\n",
    "        out[split] = losses.mean()\n",
    "    model.train() #sampling and challenging the network\n",
    "    return out"
   ]
  },
  {
   "cell_type": "markdown",
   "metadata": {},
   "source": [
    "We have used a **decorater** so that other classes won't conflict with certain cases. Here we use the model, but we dont want the gradient acting here.\n",
    "\n",
    "\n",
    "This also reduces computation since it wont use the gradient"
   ]
  },
  {
   "cell_type": "code",
   "execution_count": 13,
   "metadata": {},
   "outputs": [
    {
     "name": "stdout",
     "output_type": "stream",
     "text": [
      "\n",
      "!d(jK5ol\"MH\"Gd6Kws.?FG8xrDnmJ1(CMsu82(wFZy]n_&F!d9\n",
      "feBcZv47jinC6!QCSPLblMlXuOPAovwYd'8D)BTX&XVnD4 gS5ley\"Y5MqYyrztPIS*?4x,_qZ(eR\"CREgmAF\n",
      "eguig8EG7P\n",
      "snB y﻿ X1;uN(ab\n",
      ":jgU7PAt9gXTf[cwegwFK4Jn\"Hse!]JfSeA9\"3;FG(eSMOIhKdtbB7j[McV3V:yoRK'ZW*;7﻿5vRTL7LTTrxClbSW﻿ji- MN4aQeDl\"e9)O,!*H2u\"Ju1qks﻿ aqaax7,cN22CSUdYr7hV?GD:Tz M9iY.?[*FK\n",
      "6JHDt-pzkThv2YZQ?h!2W?:C&-_EGWnN[cZmFA'YrM\n",
      "n*J.:Soy1-**?&g[MHMUHB8,iG3O6JZFVG_xns:UTB0.?\"1HHUF[﻿GhITPM﻿1qF[SkE-sUmQD3hu\"8!\"EHszNzmF&p9cAKi:a!:\"QX﻿!Q0u,?zgTL,6Ru!﻿yQ'D]wcgpaeFC)\n"
     ]
    }
   ],
   "source": [
    "class BigramLanguageModel(nn.Module):\n",
    "    def __init__(self, vocab_size):\n",
    "        super().__init__()\n",
    "        #nn.Embedding is a look up table\n",
    "        self.token_embedding_table = nn.Embedding(vocab_size, vocab_size) #Learnable parameter\n",
    "        \n",
    "    #important to forward pass for understanding, debugging and optimisation - best practice\n",
    "    def forward(self, index, targets=None):\n",
    "        logits = self.token_embedding_table(index)\n",
    "\n",
    "        if targets is None:\n",
    "            loss = None\n",
    "        else:\n",
    "            B, T, C = logits.shape\n",
    "            logits = logits.view(B*T, C)\n",
    "            targets = targets.view(B*T)\n",
    "            loss = F.cross_entropy(logits, targets)\n",
    "        \n",
    "        return logits, loss\n",
    "\n",
    "    def generate(self, index, max_new_tokens):\n",
    "        #index is (B,T) array of indices in the current context\n",
    "        for _ in range(max_new_tokens):\n",
    "            #get predictions\n",
    "            logits, loss = self.forward(index)\n",
    "            #focus only on the last time step for Bigram\n",
    "            logits = logits[:,-1,:] #becomes (B,C)\n",
    "            #apply softmax to get the probabilities\n",
    "            probs = F.softmax(logits, dim=-1) #(B,C)\n",
    "            #sample from distribution\n",
    "            index_next = torch.multinomial(probs, num_samples=1) #(0,1)\n",
    "            #append sampled index to the running sequence\n",
    "            index = torch.cat((index, index_next), dim=1) #(B, T+1)\n",
    "\n",
    "        return index\n",
    "\n",
    "model = BigramLanguageModel(vocab_size)\n",
    "m = model.to(device)\n",
    "\n",
    "context = torch.zeros((1,1),dtype=torch.long, device = device)\n",
    "generated_chars = decode(m.generate(context, max_new_tokens=500)[0].tolist())\n",
    "print(generated_chars)"
   ]
  },
  {
   "cell_type": "markdown",
   "metadata": {},
   "source": [
    "Here we have witnessed an unoptimised output generated from the bigram.\n",
    "\n",
    "\n",
    "Now we create the optimiser"
   ]
  },
  {
   "cell_type": "code",
   "execution_count": 24,
   "metadata": {},
   "outputs": [
    {
     "name": "stdout",
     "output_type": "stream",
     "text": [
      "Step: 0, train loss:2.418, val loss:2.474\n",
      "Step: 5000, train loss:2.418, val loss:2.475\n",
      "Step: 10000, train loss:2.418, val loss:2.475\n",
      "Step: 15000, train loss:2.418, val loss:2.475\n",
      "Step: 20000, train loss:2.418, val loss:2.475\n",
      "Step: 25000, train loss:2.418, val loss:2.475\n",
      "2.42146897315979\n"
     ]
    }
   ],
   "source": [
    "#PyTorch Optimiser\n",
    "optimizer = torch.optim.AdamW(model.parameters(), lr=learning_rate)\n",
    "\n",
    "for iter in range(max_iters):\n",
    "    if iter % eval_iters == 0:\n",
    "        losses = estimate_loss()\n",
    "        print(f\"Step: {iter}, train loss:{losses['train']:.3f}, val loss:{losses['val']:.3f}\")\n",
    "    #sample a batch of data\n",
    "    xb, yb = get_batch('train')\n",
    "\n",
    "    #evaluate the loss\n",
    "    logits, loss = model.forward(xb, yb)\n",
    "    optimizer.zero_grad(set_to_none=True)\n",
    "    loss.backward()\n",
    "    optimizer.step()\n",
    "print(loss.item())"
   ]
  },
  {
   "cell_type": "code",
   "execution_count": 15,
   "metadata": {},
   "outputs": [
    {
     "name": "stdout",
     "output_type": "stream",
     "text": [
      "\n",
      "\n",
      "wheve ane d tousoy uddopre fo oneitothulore ane al!\"\n",
      "ar and tu rrdid s maly-3S riz beyokLF\n",
      "TE!\"\n",
      "To cegary ainno)C-gharira, ar e; b;\"\n",
      "Fnthed PZ(I airc ha f  awouf 1Sooflenlef we wiz2]G!\"OO6:venoomest tocry iofied y:A the\n",
      "llilde\n",
      "\"\n",
      "\n",
      "ho bkGhee sllqPIp!HAsun t les ble tchanthe r ZSld vV(\"anthelN?s g grd\n",
      "Wow gefint w Wkink[RroussqEAX0UGoreteratlale., hy cZDouthirer ps,\" GThenigarroweyly thyo d trpedueanp!Bin. t'BurlexV]Rud y werrn as t ir as, a nht spavizmsus the ouseemTH.\" w?RGNAIacte ry thetherelay\n"
     ]
    }
   ],
   "source": [
    "context = torch.zeros((1,1), dtype=torch.long, device=device)\n",
    "generated_chars = decode(m.generate(context, max_new_tokens=500)[0].tolist())\n",
    "print(generated_chars)"
   ]
  },
  {
   "cell_type": "markdown",
   "metadata": {},
   "source": [
    "One thing to ***note*** is we use **dropout** for neural network optimisation. If we have noise in the network the dropout just randomly drops out neurons from the network so that there wont be bias as well. It makes sure that the prediction part stays to just predicting based on knowledge and not bias, which also improves training by preventing ***overfitting***."
   ]
  },
  {
   "cell_type": "code",
   "execution_count": 22,
   "metadata": {},
   "outputs": [
    {
     "name": "stdout",
     "output_type": "stream",
     "text": [
      "GPU Memory Allocated: 0.7666015625 MB\n",
      "GPU Memory Reserved: 4.0 MB\n"
     ]
    }
   ],
   "source": [
    "print(f\"GPU Memory Allocated: {torch.cuda.memory_allocated() / 1024**2} MB\")\n",
    "print(f\"GPU Memory Reserved: {torch.cuda.memory_reserved() / 1024**2} MB\")"
   ]
  },
  {
   "cell_type": "code",
   "execution_count": null,
   "metadata": {},
   "outputs": [],
   "source": []
  }
 ],
 "metadata": {
  "kernelspec": {
   "display_name": "cuda-venv",
   "language": "python",
   "name": "cuda"
  },
  "language_info": {
   "codemirror_mode": {
    "name": "ipython",
    "version": 3
   },
   "file_extension": ".py",
   "mimetype": "text/x-python",
   "name": "python",
   "nbconvert_exporter": "python",
   "pygments_lexer": "ipython3",
   "version": "3.11.0"
  }
 },
 "nbformat": 4,
 "nbformat_minor": 4
}
